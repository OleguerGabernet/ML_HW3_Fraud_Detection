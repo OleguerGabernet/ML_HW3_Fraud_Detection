{
  "nbformat": 4,
  "nbformat_minor": 0,
  "metadata": {
    "colab": {
      "name": "Fraud_detection_HW3.ipynb",
      "provenance": [],
      "collapsed_sections": [],
      "toc_visible": true,
      "include_colab_link": true
    },
    "kernelspec": {
      "name": "python3",
      "display_name": "Python 3"
    }
  },
  "cells": [
    {
      "cell_type": "markdown",
      "metadata": {
        "id": "view-in-github",
        "colab_type": "text"
      },
      "source": [
        "<a href=\"https://colab.research.google.com/github/OleguerGabernet/ML_HW3_Fraud_Detection/blob/master/Fraud_detection_HW3.ipynb\" target=\"_parent\"><img src=\"https://colab.research.google.com/assets/colab-badge.svg\" alt=\"Open In Colab\"/></a>"
      ]
    },
    {
      "cell_type": "markdown",
      "metadata": {
        "id": "plBfw1jCnAuj",
        "colab_type": "text"
      },
      "source": [
        "## Fraud detection\n",
        "\n",
        "\n",
        "1. Explore de datasets / visualize data\n",
        "2. Decide which features are important\n",
        "3. Perform Machine Learning\n",
        "4. Test model on the test set.\n"
      ]
    },
    {
      "cell_type": "code",
      "metadata": {
        "id": "KOiiY81jnfDT",
        "colab_type": "code",
        "colab": {}
      },
      "source": [
        "import numpy as np\n",
        "import sklearn as sk\n",
        "import pandas as pd\n",
        "import matplotlib.pyplot as plt\n",
        "from sklearn.preprocessing import scale\n",
        "import random"
      ],
      "execution_count": 0,
      "outputs": []
    },
    {
      "cell_type": "code",
      "metadata": {
        "id": "0LFeC1M4oCPk",
        "colab_type": "code",
        "outputId": "b9f94d86-82ce-4d6d-96e6-66b7d99ca5df",
        "colab": {
          "base_uri": "https://localhost:8080/",
          "height": 33
        }
      },
      "source": [
        "df = pd.read_csv('creditcard.csv', low_memory=False)\n",
        "df = df.sample(frac=1).reset_index(drop=True)\n",
        "df.head()\n",
        "print(len(df))"
      ],
      "execution_count": 19,
      "outputs": [
        {
          "output_type": "stream",
          "text": [
            "284807\n"
          ],
          "name": "stdout"
        }
      ]
    },
    {
      "cell_type": "code",
      "metadata": {
        "id": "ue2Be96S9DSI",
        "colab_type": "code",
        "outputId": "865b3845-5802-4782-948a-d663b890cc2d",
        "colab": {
          "base_uri": "https://localhost:8080/",
          "height": 50
        }
      },
      "source": [
        "fraud = df.loc[df['Class'] == 1]\n",
        "non_frauds = df.loc[df['Class'] == 0]\n",
        "print(len(fraud))\n",
        "print(len(non_frauds))"
      ],
      "execution_count": 20,
      "outputs": [
        {
          "output_type": "stream",
          "text": [
            "492\n",
            "284315\n"
          ],
          "name": "stdout"
        }
      ]
    },
    {
      "cell_type": "code",
      "metadata": {
        "id": "pBAWIcc8GcIK",
        "colab_type": "code",
        "outputId": "e5bf76e6-8c7c-45db-8883-44aa673d11da",
        "colab": {
          "base_uri": "https://localhost:8080/",
          "height": 300
        }
      },
      "source": [
        "\n",
        "ax = non_frauds.plot.scatter(x='Amount', y='V1', color = 'Blue', label = 'Normal')\n",
        "fraud.plot.scatter(x='Amount', y='V1', color = 'Orange', label = 'Fraud', ax=ax )"
      ],
      "execution_count": 29,
      "outputs": [
        {
          "output_type": "execute_result",
          "data": {
            "text/plain": [
              "<matplotlib.axes._subplots.AxesSubplot at 0x7febca6cb6a0>"
            ]
          },
          "metadata": {
            "tags": []
          },
          "execution_count": 29
        },
        {
          "output_type": "display_data",
          "data": {
            "image/png": "[encoded data removed]",
            "text/plain": [
              "<Figure size 432x288 with 1 Axes>"
            ]
          },
          "metadata": {
            "tags": []
          }
        }
      ]
    },
    {
      "cell_type": "code",
      "metadata": {
        "id": "a6Fiaek7MznV",
        "colab_type": "code",
        "colab": {}
      },
      "source": [
        "#Machine Learning\n",
        "from sklearn import linear_model\n",
        "from sklearn.model_selection import train_test_split\n",
        "from sklearn.metrics import classification_report\n"
      ],
      "execution_count": 0,
      "outputs": []
    },
    {
      "cell_type": "code",
      "metadata": {
        "id": "G1KQASTKNJVz",
        "colab_type": "code",
        "outputId": "608c1555-844a-4329-fddc-f9bbb417b149",
        "colab": {
          "base_uri": "https://localhost:8080/",
          "height": 221
        }
      },
      "source": [
        "x = df.iloc[:, :-1]\n",
        "y = df['Class']\n",
        "\n",
        "\n",
        "def normalize(x):  #Normalize the features is proven to improve Precision and recall\n",
        "  for feature in x.columns:\n",
        "        x[feature] -= x[feature].mean()\n",
        "        x[feature] /= x[feature].std()\n",
        "  return x\n",
        "\n",
        "\n",
        "  \n",
        "X_train, X_test, y_train, y_test = train_test_split(x,y, test_size=0.35)\n",
        "\n",
        "\n",
        "#X_train = normalize(X_train)\n",
        "#X_test = normalize(X_test)\n",
        "\n",
        "logistic = linear_model.LogisticRegression(C=1e5)\n",
        "logistic.fit(X_train,y_train)\n",
        "\n",
        "y_pred = logistic.predict(X_test)\n",
        "\n",
        "#print('Score:', logistic.score(X_test, y_test))\n",
        "\n",
        "print(classification_report(y_test, y_pred))\n",
        "\n"
      ],
      "execution_count": 26,
      "outputs": [
        {
          "output_type": "stream",
          "text": [
            "/usr/local/lib/python3.6/dist-packages/sklearn/linear_model/logistic.py:432: FutureWarning: Default solver will be changed to 'lbfgs' in 0.22. Specify a solver to silence this warning.\n",
            "  FutureWarning)\n"
          ],
          "name": "stderr"
        },
        {
          "output_type": "stream",
          "text": [
            "              precision    recall  f1-score   support\n",
            "\n",
            "           0       1.00      1.00      1.00     99519\n",
            "           1       0.84      0.65      0.73       164\n",
            "\n",
            "    accuracy                           1.00     99683\n",
            "   macro avg       0.92      0.82      0.87     99683\n",
            "weighted avg       1.00      1.00      1.00     99683\n",
            "\n"
          ],
          "name": "stdout"
        }
      ]
    }
  ]
}